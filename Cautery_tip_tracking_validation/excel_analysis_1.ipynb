{
 "cells": [
  {
   "cell_type": "markdown",
   "metadata": {},
   "source": [
    "# Objectives\n",
    "In this code, the exported data for aruco-board and cautery pen's tip location is analyzed.\n",
    "The data is stored in the \"output\" folder. Following are the general objectives:\n",
    "* Basic EDA of both the DFs.\n",
    "* Assess if dataset claning is necessary\n",
    "* Produce some sample images and data of tip location detection anomally.\n",
    "* Mean and STD of distance variation between tip and board location for each frame where both were detected\n",
    "* Mean and STD of board location.\n",
    "*  Mean and STD of tip location."
   ]
  },
  {
   "cell_type": "code",
   "execution_count": 1,
   "metadata": {},
   "outputs": [],
   "source": [
    "import pandas as pd\n",
    "import numpy as np\n",
    "import matplotlib as plt"
   ]
  },
  {
   "cell_type": "markdown",
   "metadata": {},
   "source": [
    "# Data: Input_1\n",
    "Folloing are samples of the aruco and tip location data we have. The (x,y,z) coordinate corresponds to the camera coordinate system. Following is the cooridnate system used in opencv. In the data, the Frame column represents the frame number at which the readings were made. All units in the data are in cm.\n",
    "\n",
    "<img src=\"https://docs.opencv.org/2.4/_images/pinhole_camera_model.png\">\n",
    "\n",
    "In the data capture system, the camera was fixed on a rig. The aruco baord was also fixed and was not moved during the video capture. Only the hand containing the pen was moved while keeping the tip of the pen exactly on the tracked point of the aruco board. In every frame of the videos, both hand and the board were sumltaneously present."
   ]
  },
  {
   "cell_type": "code",
   "execution_count": 2,
   "metadata": {},
   "outputs": [],
   "source": [
    "excel_file_name = \"input_1.xlsx\"\n",
    "excel_folder_name = \"output\"\n",
    "excel_file_path = \"./\" + excel_folder_name + \"/\" + excel_file_name\n",
    "tip_locs = pd.read_excel(excel_file_path, sheet_name = \"tip_locs\")\n",
    "board_locs = pd.read_excel(excel_file_path, sheet_name = \"board_locs\")"
   ]
  },
  {
   "cell_type": "code",
   "execution_count": 3,
   "metadata": {},
   "outputs": [
    {
     "name": "stdout",
     "output_type": "stream",
     "text": [
      "Some samples of board_locs:\n"
     ]
    },
    {
     "data": {
      "text/html": [
       "<div>\n",
       "<style scoped>\n",
       "    .dataframe tbody tr th:only-of-type {\n",
       "        vertical-align: middle;\n",
       "    }\n",
       "\n",
       "    .dataframe tbody tr th {\n",
       "        vertical-align: top;\n",
       "    }\n",
       "\n",
       "    .dataframe thead th {\n",
       "        text-align: right;\n",
       "    }\n",
       "</style>\n",
       "<table border=\"1\" class=\"dataframe\">\n",
       "  <thead>\n",
       "    <tr style=\"text-align: right;\">\n",
       "      <th></th>\n",
       "      <th>Frame</th>\n",
       "      <th>x</th>\n",
       "      <th>y</th>\n",
       "      <th>z</th>\n",
       "    </tr>\n",
       "  </thead>\n",
       "  <tbody>\n",
       "    <tr>\n",
       "      <th>0</th>\n",
       "      <td>0</td>\n",
       "      <td>-22.129578</td>\n",
       "      <td>17.644530</td>\n",
       "      <td>134.097071</td>\n",
       "    </tr>\n",
       "    <tr>\n",
       "      <th>1</th>\n",
       "      <td>1</td>\n",
       "      <td>-22.122394</td>\n",
       "      <td>17.680562</td>\n",
       "      <td>134.209414</td>\n",
       "    </tr>\n",
       "    <tr>\n",
       "      <th>2</th>\n",
       "      <td>2</td>\n",
       "      <td>-22.128505</td>\n",
       "      <td>17.649913</td>\n",
       "      <td>134.138091</td>\n",
       "    </tr>\n",
       "    <tr>\n",
       "      <th>3</th>\n",
       "      <td>3</td>\n",
       "      <td>-22.143928</td>\n",
       "      <td>17.619830</td>\n",
       "      <td>133.940205</td>\n",
       "    </tr>\n",
       "    <tr>\n",
       "      <th>4</th>\n",
       "      <td>4</td>\n",
       "      <td>-22.148921</td>\n",
       "      <td>17.608042</td>\n",
       "      <td>133.866430</td>\n",
       "    </tr>\n",
       "  </tbody>\n",
       "</table>\n",
       "</div>"
      ],
      "text/plain": [
       "   Frame          x          y           z\n",
       "0      0 -22.129578  17.644530  134.097071\n",
       "1      1 -22.122394  17.680562  134.209414\n",
       "2      2 -22.128505  17.649913  134.138091\n",
       "3      3 -22.143928  17.619830  133.940205\n",
       "4      4 -22.148921  17.608042  133.866430"
      ]
     },
     "execution_count": 3,
     "metadata": {},
     "output_type": "execute_result"
    }
   ],
   "source": [
    "print(\"Some samples of board_locs:\")\n",
    "board_locs.head()"
   ]
  },
  {
   "cell_type": "code",
   "execution_count": 4,
   "metadata": {},
   "outputs": [
    {
     "name": "stdout",
     "output_type": "stream",
     "text": [
      "Some samples of tip_locs: \n"
     ]
    },
    {
     "data": {
      "text/html": [
       "<div>\n",
       "<style scoped>\n",
       "    .dataframe tbody tr th:only-of-type {\n",
       "        vertical-align: middle;\n",
       "    }\n",
       "\n",
       "    .dataframe tbody tr th {\n",
       "        vertical-align: top;\n",
       "    }\n",
       "\n",
       "    .dataframe thead th {\n",
       "        text-align: right;\n",
       "    }\n",
       "</style>\n",
       "<table border=\"1\" class=\"dataframe\">\n",
       "  <thead>\n",
       "    <tr style=\"text-align: right;\">\n",
       "      <th></th>\n",
       "      <th>Frame</th>\n",
       "      <th>x</th>\n",
       "      <th>y</th>\n",
       "      <th>z</th>\n",
       "    </tr>\n",
       "  </thead>\n",
       "  <tbody>\n",
       "    <tr>\n",
       "      <th>0</th>\n",
       "      <td>15</td>\n",
       "      <td>-17.196167</td>\n",
       "      <td>15.722184</td>\n",
       "      <td>113.815177</td>\n",
       "    </tr>\n",
       "    <tr>\n",
       "      <th>1</th>\n",
       "      <td>16</td>\n",
       "      <td>-15.903020</td>\n",
       "      <td>14.401599</td>\n",
       "      <td>101.866703</td>\n",
       "    </tr>\n",
       "    <tr>\n",
       "      <th>2</th>\n",
       "      <td>17</td>\n",
       "      <td>-15.490446</td>\n",
       "      <td>14.333447</td>\n",
       "      <td>100.806815</td>\n",
       "    </tr>\n",
       "    <tr>\n",
       "      <th>3</th>\n",
       "      <td>18</td>\n",
       "      <td>-14.604812</td>\n",
       "      <td>12.420842</td>\n",
       "      <td>90.722237</td>\n",
       "    </tr>\n",
       "    <tr>\n",
       "      <th>4</th>\n",
       "      <td>19</td>\n",
       "      <td>-14.591520</td>\n",
       "      <td>12.270892</td>\n",
       "      <td>90.416883</td>\n",
       "    </tr>\n",
       "  </tbody>\n",
       "</table>\n",
       "</div>"
      ],
      "text/plain": [
       "   Frame          x          y           z\n",
       "0     15 -17.196167  15.722184  113.815177\n",
       "1     16 -15.903020  14.401599  101.866703\n",
       "2     17 -15.490446  14.333447  100.806815\n",
       "3     18 -14.604812  12.420842   90.722237\n",
       "4     19 -14.591520  12.270892   90.416883"
      ]
     },
     "execution_count": 4,
     "metadata": {},
     "output_type": "execute_result"
    }
   ],
   "source": [
    "print(\"Some samples of tip_locs: \")\n",
    "tip_locs.head()"
   ]
  },
  {
   "cell_type": "markdown",
   "metadata": {},
   "source": [
    "## Basic EDA\n",
    "First lets het a general idea of data for input_1.\n",
    "### Board Location EDA\n",
    "Following is the basic EDA of aruco board data.  \n",
    "Mean is \\[-21.622195\t17.672194\t134.060638\\].  \n",
    "Std is \\[0.250231\t0.031129\t0.126895\\].  \n",
    "It seems like the board's location is pretty stable. The maximum std is only 0.25 cm along the x axis."
   ]
  },
  {
   "cell_type": "code",
   "execution_count": 5,
   "metadata": {},
   "outputs": [
    {
     "name": "stdout",
     "output_type": "stream",
     "text": [
      "Basic board location data stats: \n"
     ]
    },
    {
     "data": {
      "text/html": [
       "<div>\n",
       "<style scoped>\n",
       "    .dataframe tbody tr th:only-of-type {\n",
       "        vertical-align: middle;\n",
       "    }\n",
       "\n",
       "    .dataframe tbody tr th {\n",
       "        vertical-align: top;\n",
       "    }\n",
       "\n",
       "    .dataframe thead th {\n",
       "        text-align: right;\n",
       "    }\n",
       "</style>\n",
       "<table border=\"1\" class=\"dataframe\">\n",
       "  <thead>\n",
       "    <tr style=\"text-align: right;\">\n",
       "      <th></th>\n",
       "      <th>Frame</th>\n",
       "      <th>x</th>\n",
       "      <th>y</th>\n",
       "      <th>z</th>\n",
       "    </tr>\n",
       "  </thead>\n",
       "  <tbody>\n",
       "    <tr>\n",
       "      <th>count</th>\n",
       "      <td>86.000000</td>\n",
       "      <td>86.000000</td>\n",
       "      <td>86.000000</td>\n",
       "      <td>86.000000</td>\n",
       "    </tr>\n",
       "    <tr>\n",
       "      <th>mean</th>\n",
       "      <td>42.500000</td>\n",
       "      <td>-21.622195</td>\n",
       "      <td>17.672194</td>\n",
       "      <td>134.060638</td>\n",
       "    </tr>\n",
       "    <tr>\n",
       "      <th>std</th>\n",
       "      <td>24.969982</td>\n",
       "      <td>0.250231</td>\n",
       "      <td>0.031129</td>\n",
       "      <td>0.126895</td>\n",
       "    </tr>\n",
       "    <tr>\n",
       "      <th>min</th>\n",
       "      <td>0.000000</td>\n",
       "      <td>-22.160250</td>\n",
       "      <td>17.571699</td>\n",
       "      <td>133.810485</td>\n",
       "    </tr>\n",
       "    <tr>\n",
       "      <th>25%</th>\n",
       "      <td>21.250000</td>\n",
       "      <td>-21.554632</td>\n",
       "      <td>17.650362</td>\n",
       "      <td>133.950863</td>\n",
       "    </tr>\n",
       "    <tr>\n",
       "      <th>50%</th>\n",
       "      <td>42.500000</td>\n",
       "      <td>-21.531813</td>\n",
       "      <td>17.671390</td>\n",
       "      <td>134.078076</td>\n",
       "    </tr>\n",
       "    <tr>\n",
       "      <th>75%</th>\n",
       "      <td>63.750000</td>\n",
       "      <td>-21.515445</td>\n",
       "      <td>17.692262</td>\n",
       "      <td>134.143335</td>\n",
       "    </tr>\n",
       "    <tr>\n",
       "      <th>max</th>\n",
       "      <td>85.000000</td>\n",
       "      <td>-21.376418</td>\n",
       "      <td>17.744654</td>\n",
       "      <td>134.312170</td>\n",
       "    </tr>\n",
       "  </tbody>\n",
       "</table>\n",
       "</div>"
      ],
      "text/plain": [
       "           Frame          x          y           z\n",
       "count  86.000000  86.000000  86.000000   86.000000\n",
       "mean   42.500000 -21.622195  17.672194  134.060638\n",
       "std    24.969982   0.250231   0.031129    0.126895\n",
       "min     0.000000 -22.160250  17.571699  133.810485\n",
       "25%    21.250000 -21.554632  17.650362  133.950863\n",
       "50%    42.500000 -21.531813  17.671390  134.078076\n",
       "75%    63.750000 -21.515445  17.692262  134.143335\n",
       "max    85.000000 -21.376418  17.744654  134.312170"
      ]
     },
     "execution_count": 5,
     "metadata": {},
     "output_type": "execute_result"
    }
   ],
   "source": [
    "print(\"Basic board location data stats: \")\n",
    "board_locs.describe()"
   ]
  },
  {
   "cell_type": "markdown",
   "metadata": {},
   "source": [
    "### Tip Location EDA\n",
    "Following is the basic EDA of tip location data.  \n",
    "From the data, location mean is = \\[13.910249\t12.525607\t90.465666\\]  \n",
    "std is \\[0.752575\t0.653740\t4.770839\\]  \n",
    "From std information it seems that unlike x and y axis, the tip location estimation has a quite high standard deviation along the z axis. z axis points away from the camera. z axis std is about 5 cm."
   ]
  },
  {
   "cell_type": "code",
   "execution_count": 6,
   "metadata": {},
   "outputs": [
    {
     "name": "stdout",
     "output_type": "stream",
     "text": [
      "Basic tip_locs stats: \n"
     ]
    },
    {
     "data": {
      "text/html": [
       "<div>\n",
       "<style scoped>\n",
       "    .dataframe tbody tr th:only-of-type {\n",
       "        vertical-align: middle;\n",
       "    }\n",
       "\n",
       "    .dataframe tbody tr th {\n",
       "        vertical-align: top;\n",
       "    }\n",
       "\n",
       "    .dataframe thead th {\n",
       "        text-align: right;\n",
       "    }\n",
       "</style>\n",
       "<table border=\"1\" class=\"dataframe\">\n",
       "  <thead>\n",
       "    <tr style=\"text-align: right;\">\n",
       "      <th></th>\n",
       "      <th>Frame</th>\n",
       "      <th>x</th>\n",
       "      <th>y</th>\n",
       "      <th>z</th>\n",
       "    </tr>\n",
       "  </thead>\n",
       "  <tbody>\n",
       "    <tr>\n",
       "      <th>count</th>\n",
       "      <td>71.000000</td>\n",
       "      <td>71.000000</td>\n",
       "      <td>71.000000</td>\n",
       "      <td>71.000000</td>\n",
       "    </tr>\n",
       "    <tr>\n",
       "      <th>mean</th>\n",
       "      <td>50.000000</td>\n",
       "      <td>-13.910249</td>\n",
       "      <td>12.525607</td>\n",
       "      <td>90.465666</td>\n",
       "    </tr>\n",
       "    <tr>\n",
       "      <th>std</th>\n",
       "      <td>20.639767</td>\n",
       "      <td>0.752575</td>\n",
       "      <td>0.653740</td>\n",
       "      <td>4.770839</td>\n",
       "    </tr>\n",
       "    <tr>\n",
       "      <th>min</th>\n",
       "      <td>15.000000</td>\n",
       "      <td>-17.196167</td>\n",
       "      <td>12.114827</td>\n",
       "      <td>86.509090</td>\n",
       "    </tr>\n",
       "    <tr>\n",
       "      <th>25%</th>\n",
       "      <td>32.500000</td>\n",
       "      <td>-14.230434</td>\n",
       "      <td>12.234434</td>\n",
       "      <td>87.759909</td>\n",
       "    </tr>\n",
       "    <tr>\n",
       "      <th>50%</th>\n",
       "      <td>50.000000</td>\n",
       "      <td>-13.571756</td>\n",
       "      <td>12.279403</td>\n",
       "      <td>88.853304</td>\n",
       "    </tr>\n",
       "    <tr>\n",
       "      <th>75%</th>\n",
       "      <td>67.500000</td>\n",
       "      <td>-13.438292</td>\n",
       "      <td>12.361560</td>\n",
       "      <td>91.070788</td>\n",
       "    </tr>\n",
       "    <tr>\n",
       "      <th>max</th>\n",
       "      <td>85.000000</td>\n",
       "      <td>-13.202764</td>\n",
       "      <td>15.722184</td>\n",
       "      <td>113.815177</td>\n",
       "    </tr>\n",
       "  </tbody>\n",
       "</table>\n",
       "</div>"
      ],
      "text/plain": [
       "           Frame          x          y           z\n",
       "count  71.000000  71.000000  71.000000   71.000000\n",
       "mean   50.000000 -13.910249  12.525607   90.465666\n",
       "std    20.639767   0.752575   0.653740    4.770839\n",
       "min    15.000000 -17.196167  12.114827   86.509090\n",
       "25%    32.500000 -14.230434  12.234434   87.759909\n",
       "50%    50.000000 -13.571756  12.279403   88.853304\n",
       "75%    67.500000 -13.438292  12.361560   91.070788\n",
       "max    85.000000 -13.202764  15.722184  113.815177"
      ]
     },
     "execution_count": 6,
     "metadata": {},
     "output_type": "execute_result"
    }
   ],
   "source": [
    "print(\"Basic tip_locs stats: \")\n",
    "tip_locs.describe()"
   ]
  },
  {
   "cell_type": "markdown",
   "metadata": {},
   "source": [
    "### Possible Anomalies in Tip Location Data\n",
    "As DOPE isn't perfect, there might be several outliers affecting the above EDA. In this part let's look at some of this possible sources annomalies.\n",
    "\n",
    "#### Duplicates in tip_locs\n",
    "Frame number will be duplicates if in any frame two cubes were identified by dope. For input_1 it seems like there are no duplicates in \"Frame\" column."
   ]
  },
  {
   "cell_type": "code",
   "execution_count": 7,
   "metadata": {},
   "outputs": [
    {
     "name": "stdout",
     "output_type": "stream",
     "text": [
      "Number of frames with more than one cube identified: 0\n"
     ]
    }
   ],
   "source": [
    "dups = tip_locs[\"Frame\"].duplicated()\n",
    "print(\"Number of frames with more than one cube identified: {}\".format(dups.sum()))\n"
   ]
  },
  {
   "cell_type": "markdown",
   "metadata": {},
   "source": [
    "#### Anomalous Detecion\n",
    "Sometimes DOPE estimates other objects wrongly as the hand carrying the pen. I did keep the background as clean as possible to test in ideal conditions. However, there might be anomalies. Following are the plots of the coordinates in cm."
   ]
  },
  {
   "cell_type": "code",
   "execution_count": 12,
   "metadata": {},
   "outputs": [
    {
     "data": {
      "text/plain": [
       "<matplotlib.axes._subplots.AxesSubplot at 0x7fb8c03bd490>"
      ]
     },
     "execution_count": 12,
     "metadata": {},
     "output_type": "execute_result"
    },
    {
     "data": {
      "image/png": "[encoded data removed]",
      "text/plain": [
       "<Figure size 432x288 with 1 Axes>"
      ]
     },
     "metadata": {
      "needs_background": "light"
     },
     "output_type": "display_data"
    }
   ],
   "source": [
    "tip_locs.plot(\"Frame\")"
   ]
  },
  {
   "cell_type": "markdown",
   "metadata": {},
   "source": [
    "From the plot it seems that between frames 10-20, the z-axis jumps a bit, but other axis remains reltively unchanged. Which means there were possibly not anomalous detection. "
   ]
  },
  {
   "cell_type": "markdown",
   "metadata": {},
   "source": [
    "## Tip Tracking Validation\n",
    "Let's now validate the tip localization. To do that, I will consider only those frames where both tip and board was identified."
   ]
  },
  {
   "cell_type": "code",
   "execution_count": 9,
   "metadata": {},
   "outputs": [
    {
     "data": {
      "text/html": [
       "<div>\n",
       "<style scoped>\n",
       "    .dataframe tbody tr th:only-of-type {\n",
       "        vertical-align: middle;\n",
       "    }\n",
       "\n",
       "    .dataframe tbody tr th {\n",
       "        vertical-align: top;\n",
       "    }\n",
       "\n",
       "    .dataframe thead th {\n",
       "        text-align: right;\n",
       "    }\n",
       "</style>\n",
       "<table border=\"1\" class=\"dataframe\">\n",
       "  <thead>\n",
       "    <tr style=\"text-align: right;\">\n",
       "      <th></th>\n",
       "      <th>Frame</th>\n",
       "      <th>x</th>\n",
       "      <th>y</th>\n",
       "      <th>z</th>\n",
       "    </tr>\n",
       "  </thead>\n",
       "  <tbody>\n",
       "    <tr>\n",
       "      <th>count</th>\n",
       "      <td>71.000000</td>\n",
       "      <td>71.000000</td>\n",
       "      <td>71.000000</td>\n",
       "      <td>71.000000</td>\n",
       "    </tr>\n",
       "    <tr>\n",
       "      <th>mean</th>\n",
       "      <td>50.000000</td>\n",
       "      <td>-21.514301</td>\n",
       "      <td>17.678431</td>\n",
       "      <td>134.072172</td>\n",
       "    </tr>\n",
       "    <tr>\n",
       "      <th>std</th>\n",
       "      <td>20.639767</td>\n",
       "      <td>0.090317</td>\n",
       "      <td>0.029560</td>\n",
       "      <td>0.130407</td>\n",
       "    </tr>\n",
       "    <tr>\n",
       "      <th>min</th>\n",
       "      <td>15.000000</td>\n",
       "      <td>-21.843715</td>\n",
       "      <td>17.571699</td>\n",
       "      <td>133.810485</td>\n",
       "    </tr>\n",
       "    <tr>\n",
       "      <th>25%</th>\n",
       "      <td>32.500000</td>\n",
       "      <td>-21.539916</td>\n",
       "      <td>17.663167</td>\n",
       "      <td>133.990819</td>\n",
       "    </tr>\n",
       "    <tr>\n",
       "      <th>50%</th>\n",
       "      <td>50.000000</td>\n",
       "      <td>-21.528681</td>\n",
       "      <td>17.674108</td>\n",
       "      <td>134.099235</td>\n",
       "    </tr>\n",
       "    <tr>\n",
       "      <th>75%</th>\n",
       "      <td>67.500000</td>\n",
       "      <td>-21.502575</td>\n",
       "      <td>17.697575</td>\n",
       "      <td>134.166841</td>\n",
       "    </tr>\n",
       "    <tr>\n",
       "      <th>max</th>\n",
       "      <td>85.000000</td>\n",
       "      <td>-21.376418</td>\n",
       "      <td>17.744654</td>\n",
       "      <td>134.312170</td>\n",
       "    </tr>\n",
       "  </tbody>\n",
       "</table>\n",
       "</div>"
      ],
      "text/plain": [
       "           Frame          x          y           z\n",
       "count  71.000000  71.000000  71.000000   71.000000\n",
       "mean   50.000000 -21.514301  17.678431  134.072172\n",
       "std    20.639767   0.090317   0.029560    0.130407\n",
       "min    15.000000 -21.843715  17.571699  133.810485\n",
       "25%    32.500000 -21.539916  17.663167  133.990819\n",
       "50%    50.000000 -21.528681  17.674108  134.099235\n",
       "75%    67.500000 -21.502575  17.697575  134.166841\n",
       "max    85.000000 -21.376418  17.744654  134.312170"
      ]
     },
     "execution_count": 9,
     "metadata": {},
     "output_type": "execute_result"
    }
   ],
   "source": [
    "common_board_locs = board_locs[board_locs.Frame.isin(tip_locs.Frame)] \n",
    "common_board_locs.describe()"
   ]
  },
  {
   "cell_type": "code",
   "execution_count": 10,
   "metadata": {},
   "outputs": [
    {
     "data": {
      "text/html": [
       "<div>\n",
       "<style scoped>\n",
       "    .dataframe tbody tr th:only-of-type {\n",
       "        vertical-align: middle;\n",
       "    }\n",
       "\n",
       "    .dataframe tbody tr th {\n",
       "        vertical-align: top;\n",
       "    }\n",
       "\n",
       "    .dataframe thead th {\n",
       "        text-align: right;\n",
       "    }\n",
       "</style>\n",
       "<table border=\"1\" class=\"dataframe\">\n",
       "  <thead>\n",
       "    <tr style=\"text-align: right;\">\n",
       "      <th></th>\n",
       "      <th>Frame</th>\n",
       "      <th>x</th>\n",
       "      <th>y</th>\n",
       "      <th>z</th>\n",
       "    </tr>\n",
       "  </thead>\n",
       "  <tbody>\n",
       "    <tr>\n",
       "      <th>count</th>\n",
       "      <td>71.000000</td>\n",
       "      <td>71.000000</td>\n",
       "      <td>71.000000</td>\n",
       "      <td>71.000000</td>\n",
       "    </tr>\n",
       "    <tr>\n",
       "      <th>mean</th>\n",
       "      <td>50.000000</td>\n",
       "      <td>-13.910249</td>\n",
       "      <td>12.525607</td>\n",
       "      <td>90.465666</td>\n",
       "    </tr>\n",
       "    <tr>\n",
       "      <th>std</th>\n",
       "      <td>20.639767</td>\n",
       "      <td>0.752575</td>\n",
       "      <td>0.653740</td>\n",
       "      <td>4.770839</td>\n",
       "    </tr>\n",
       "    <tr>\n",
       "      <th>min</th>\n",
       "      <td>15.000000</td>\n",
       "      <td>-17.196167</td>\n",
       "      <td>12.114827</td>\n",
       "      <td>86.509090</td>\n",
       "    </tr>\n",
       "    <tr>\n",
       "      <th>25%</th>\n",
       "      <td>32.500000</td>\n",
       "      <td>-14.230434</td>\n",
       "      <td>12.234434</td>\n",
       "      <td>87.759909</td>\n",
       "    </tr>\n",
       "    <tr>\n",
       "      <th>50%</th>\n",
       "      <td>50.000000</td>\n",
       "      <td>-13.571756</td>\n",
       "      <td>12.279403</td>\n",
       "      <td>88.853304</td>\n",
       "    </tr>\n",
       "    <tr>\n",
       "      <th>75%</th>\n",
       "      <td>67.500000</td>\n",
       "      <td>-13.438292</td>\n",
       "      <td>12.361560</td>\n",
       "      <td>91.070788</td>\n",
       "    </tr>\n",
       "    <tr>\n",
       "      <th>max</th>\n",
       "      <td>85.000000</td>\n",
       "      <td>-13.202764</td>\n",
       "      <td>15.722184</td>\n",
       "      <td>113.815177</td>\n",
       "    </tr>\n",
       "  </tbody>\n",
       "</table>\n",
       "</div>"
      ],
      "text/plain": [
       "           Frame          x          y           z\n",
       "count  71.000000  71.000000  71.000000   71.000000\n",
       "mean   50.000000 -13.910249  12.525607   90.465666\n",
       "std    20.639767   0.752575   0.653740    4.770839\n",
       "min    15.000000 -17.196167  12.114827   86.509090\n",
       "25%    32.500000 -14.230434  12.234434   87.759909\n",
       "50%    50.000000 -13.571756  12.279403   88.853304\n",
       "75%    67.500000 -13.438292  12.361560   91.070788\n",
       "max    85.000000 -13.202764  15.722184  113.815177"
      ]
     },
     "execution_count": 10,
     "metadata": {},
     "output_type": "execute_result"
    }
   ],
   "source": [
    "common_tip_locs = tip_locs[tip_locs.Frame.isin(board_locs.Frame)]\n",
    "common_tip_locs.describe()"
   ]
  },
  {
   "cell_type": "markdown",
   "metadata": {},
   "source": [
    "The mean and STD of the difference between estimated board and tip locations are:"
   ]
  },
  {
   "cell_type": "code",
   "execution_count": 13,
   "metadata": {},
   "outputs": [
    {
     "name": "stdout",
     "output_type": "stream",
     "text": [
      "Mean:\n",
      "x    -7.881104\n",
      "y     5.291018\n",
      "z    44.825804\n",
      "dtype: float64\n",
      "\n",
      "STD:\n",
      "x    0.440381\n",
      "y    0.399958\n",
      "z    3.505995\n",
      "dtype: float64\n"
     ]
    }
   ],
   "source": [
    "print(\"Mean:\")\n",
    "print(np.mean(common_board_locs[[\"x\",\"y\",\"z\"]] - common_tip_locs[[\"x\",\"y\",\"z\"]]))\n",
    "print(\"\\nSTD:\")\n",
    "print(np.std(common_board_locs[[\"x\",\"y\",\"z\"]] - common_tip_locs[[\"x\",\"y\",\"z\"]]))"
   ]
  }
 ],
 "metadata": {
  "kernelspec": {
   "display_name": "Python 2",
   "language": "python",
   "name": "python2"
  },
  "language_info": {
   "codemirror_mode": {
    "name": "ipython",
    "version": 2
   },
   "file_extension": ".py",
   "mimetype": "text/x-python",
   "name": "python",
   "nbconvert_exporter": "python",
   "pygments_lexer": "ipython2",
   "version": "2.7.12"
  }
 },
 "nbformat": 4,
 "nbformat_minor": 2
}
