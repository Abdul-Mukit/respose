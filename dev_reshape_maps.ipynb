{
 "cells": [
  {
   "cell_type": "markdown",
   "metadata": {},
   "source": [
    "# Introduction\n",
    "This file will be used for defvelopment of reshape_maps() function.\n",
    "The function reshape_maps() will be used to reorganize Belief+Affinity maps genrated by ResPose.\n",
    "In the final stage the function will also work with different number of classes."
   ]
  },
  {
   "cell_type": "code",
   "execution_count": 1,
   "metadata": {
    "scrolled": true
   },
   "outputs": [
    {
     "name": "stdout",
     "output_type": "stream",
     "text": [
      "Before Resizing shape of out:\n",
      "(40000,)\n",
      "After Resizing shape of out:\n",
      "(16, 25, 10, 10)\n"
     ]
    }
   ],
   "source": [
    "import numpy as np\n",
    "\n",
    "batch = 16\n",
    "W, H = 10,10\n",
    "numb_maps = 25\n",
    "numBeliefMap = 9\n",
    "numAffinity = 16\n",
    "out = np.arange(batch * numb_maps * W * H)\n",
    "\n",
    "print(\"Before Resizing shape of out:\")\n",
    "print(out.shape)\n",
    "out = out.reshape(batch, numb_maps, W, H)\n",
    "print(\"After Resizing shape of out:\")\n",
    "print(out.shape)\n",
    "\n",
    "InputList = [out, out, out, out, out, out]"
   ]
  },
  {
   "cell_type": "code",
   "execution_count": 2,
   "metadata": {},
   "outputs": [
    {
     "data": {
      "text/plain": [
       "array([[ 0,  1,  2,  3,  4,  5,  6,  7,  8,  9],\n",
       "       [10, 11, 12, 13, 14, 15, 16, 17, 18, 19],\n",
       "       [20, 21, 22, 23, 24, 25, 26, 27, 28, 29],\n",
       "       [30, 31, 32, 33, 34, 35, 36, 37, 38, 39],\n",
       "       [40, 41, 42, 43, 44, 45, 46, 47, 48, 49],\n",
       "       [50, 51, 52, 53, 54, 55, 56, 57, 58, 59],\n",
       "       [60, 61, 62, 63, 64, 65, 66, 67, 68, 69],\n",
       "       [70, 71, 72, 73, 74, 75, 76, 77, 78, 79],\n",
       "       [80, 81, 82, 83, 84, 85, 86, 87, 88, 89],\n",
       "       [90, 91, 92, 93, 94, 95, 96, 97, 98, 99]])"
      ]
     },
     "execution_count": 2,
     "metadata": {},
     "output_type": "execute_result"
    }
   ],
   "source": [
    "out[0,0,:,:]"
   ]
  },
  {
   "cell_type": "code",
   "execution_count": 3,
   "metadata": {},
   "outputs": [
    {
     "data": {
      "text/plain": [
       "'\\nInput: \\nWill be 6 of this \"out\" array\\ne.g:\\n[out1, out2, out3, out4, out5, out6]\\n\\nOutput:\\ne.g:\\nBeliefList = [out1[:,beliefs,:,:], out2[:,beliefs,:,:], ....]\\nAffinityList = [out1[:,Affinities,:,:], out2[:,Affinities,:,:], ....]\\n\\nPseudo Algorithm:\\nEach map will be sliced by nubBelief:numbAffinity ration by axis=1\\nAll upper slices will be concatenated in beliefMap list output\\nAll upper slices will be concatenated in beliefMap list output\\n'"
      ]
     },
     "execution_count": 3,
     "metadata": {},
     "output_type": "execute_result"
    }
   ],
   "source": [
    "\"\"\"\n",
    "Input: \n",
    "Will be 6 of this \"out\" array\n",
    "e.g:\n",
    "[out1, out2, out3, out4, out5, out6]\n",
    "\n",
    "Output:\n",
    "e.g:\n",
    "BeliefList = [out1[:,beliefs,:,:], out2[:,beliefs,:,:], ....]\n",
    "AffinityList = [out1[:,Affinities,:,:], out2[:,Affinities,:,:], ....]\n",
    "\n",
    "Pseudo Algorithm:\n",
    "Each map will be sliced by nubBelief:numbAffinity ration by axis=1\n",
    "All upper slices will be concatenated in beliefMap list output\n",
    "All upper slices will be concatenated in beliefMap list output\n",
    "\"\"\""
   ]
  },
  {
   "cell_type": "code",
   "execution_count": 4,
   "metadata": {
    "scrolled": true
   },
   "outputs": [],
   "source": [
    "BeliefList = []\n",
    "AffinityList = []\n",
    "for out in InputList:\n",
    "    BeliefList.append(out[:, :numBeliefMap, :, :])\n",
    "    AffinityList.append(out[:, numBeliefMap:, :, :])"
   ]
  },
  {
   "cell_type": "code",
   "execution_count": 5,
   "metadata": {},
   "outputs": [
    {
     "data": {
      "text/plain": [
       "6"
      ]
     },
     "execution_count": 5,
     "metadata": {},
     "output_type": "execute_result"
    }
   ],
   "source": [
    "len(BeliefList)"
   ]
  },
  {
   "cell_type": "code",
   "execution_count": 6,
   "metadata": {},
   "outputs": [
    {
     "data": {
      "text/plain": [
       "(16, 9, 10, 10)"
      ]
     },
     "execution_count": 6,
     "metadata": {},
     "output_type": "execute_result"
    }
   ],
   "source": [
    "BeliefList[0].shape"
   ]
  },
  {
   "cell_type": "code",
   "execution_count": 7,
   "metadata": {},
   "outputs": [
    {
     "data": {
      "text/plain": [
       "(16, 16, 10, 10)"
      ]
     },
     "execution_count": 7,
     "metadata": {},
     "output_type": "execute_result"
    }
   ],
   "source": [
    "AffinityList[0].shape"
   ]
  },
  {
   "cell_type": "markdown",
   "metadata": {},
   "source": [
    "## Functional Implementation"
   ]
  },
  {
   "cell_type": "code",
   "execution_count": 8,
   "metadata": {},
   "outputs": [],
   "source": [
    "def reshape_maps(InputList):\n",
    "    \"\"\"\n",
    "    :param InputList: varyable list from forward pass of ResPose\n",
    "    InputList example for 6th stage output without multiclass has length 6 with each element having size\n",
    "    (numbBatch, 25, W/8, H/8), where W and H are network-input-image dimensions (for dope 400x400)\n",
    "\n",
    "    Future: Later each list element of the list may have size   (numbBatch, (numbClass x 25), W/8, H/8)\n",
    "    where numbClass != 1\n",
    "    When this condition is true the function will behave differently\n",
    "\n",
    "    :return:\n",
    "    beliefList: List of Belief maps generated at different stages. Each element will have shape:\n",
    "    (numbBatch, 9, W/8, H/8). The top 9 maps of each out\n",
    "    affinityList: List of Affinity maps generated at different stages. Each element will have shape:\n",
    "    (numbBatch, 16, W/8, H/8). The bottom 16 maps of each out\n",
    "    \"\"\"\n",
    "    beliefList = []\n",
    "    affinityList = []\n",
    "    numBeliefMap = 9\n",
    "    for out in InputList:\n",
    "        beliefList.append(out[:, :numBeliefMap, :, :])\n",
    "        affinityList.append(out[:, numBeliefMap:, :, :])\n",
    "    return beliefList, affinityList"
   ]
  },
  {
   "cell_type": "code",
   "execution_count": 9,
   "metadata": {},
   "outputs": [
    {
     "name": "stdout",
     "output_type": "stream",
     "text": [
      "outBeliefList len: 6\n",
      "outAffinityList len: 6\n",
      "outBeliefList[0] shape: (16, 9, 10, 10)\n",
      "outAffinityList[0] shape: (16, 16, 10, 10)\n"
     ]
    }
   ],
   "source": [
    "outBeliefList, outAffinityList = reshape_maps(InputList)\n",
    "print(f\"outBeliefList len: {len(outBeliefList)}\")\n",
    "print(f\"outAffinityList len: {len(outAffinityList)}\")\n",
    "print(f\"outBeliefList[0] shape: {outBeliefList[0].shape}\")\n",
    "print(f\"outAffinityList[0] shape: {outAffinityList[0].shape}\")"
   ]
  },
  {
   "cell_type": "markdown",
   "metadata": {},
   "source": [
    "## Demo Distribution Success\n",
    "Here I demo functioning of the functio in a more intuitive way. Each feature map will be of size 1x1."
   ]
  },
  {
   "cell_type": "code",
   "execution_count": 10,
   "metadata": {},
   "outputs": [
    {
     "name": "stdout",
     "output_type": "stream",
     "text": [
      "Before Resizing shape of out:\n",
      "(25,)\n",
      "After Resizing shape of out:\n",
      "(1, 25, 1, 1)\n",
      "outBeliefList len: 6\n",
      "outAffinityList len: 6\n",
      "outBeliefList[0] shape: (1, 9, 1, 1)\n",
      "outAffinityList[0] shape: (1, 16, 1, 1)\n"
     ]
    }
   ],
   "source": [
    "import numpy as np\n",
    "batch = 1\n",
    "W, H = 1,1\n",
    "numb_maps = 25\n",
    "numBeliefMap = 9\n",
    "numAffinity = 16\n",
    "out = np.arange(batch * numb_maps * W * H)\n",
    "\n",
    "print(\"Before Resizing shape of out:\")\n",
    "print(out.shape)\n",
    "out = out.reshape(batch, numb_maps, W, H)\n",
    "print(\"After Resizing shape of out:\")\n",
    "print(out.shape)\n",
    "\n",
    "InputList = [out, out, out, out, out, out]\n",
    "\n",
    "\n",
    "\n",
    "outBeliefList, outAffinityList = reshape_maps(InputList)\n",
    "print(f\"outBeliefList len: {len(outBeliefList)}\")\n",
    "print(f\"outAffinityList len: {len(outAffinityList)}\")\n",
    "print(f\"outBeliefList[0] shape: {outBeliefList[0].shape}\")\n",
    "print(f\"outAffinityList[0] shape: {outAffinityList[0].shape}\")"
   ]
  },
  {
   "cell_type": "markdown",
   "metadata": {},
   "source": [
    "As can be seen that first 9 maps are in belief list"
   ]
  },
  {
   "cell_type": "code",
   "execution_count": 11,
   "metadata": {
    "scrolled": false
   },
   "outputs": [
    {
     "data": {
      "text/plain": [
       "array([[[[0]],\n",
       "\n",
       "        [[1]],\n",
       "\n",
       "        [[2]],\n",
       "\n",
       "        [[3]],\n",
       "\n",
       "        [[4]],\n",
       "\n",
       "        [[5]],\n",
       "\n",
       "        [[6]],\n",
       "\n",
       "        [[7]],\n",
       "\n",
       "        [[8]]]])"
      ]
     },
     "execution_count": 11,
     "metadata": {},
     "output_type": "execute_result"
    }
   ],
   "source": [
    "outBeliefList[0]"
   ]
  },
  {
   "cell_type": "markdown",
   "metadata": {},
   "source": [
    "As can be seen that last 16 maps are in affinity list"
   ]
  },
  {
   "cell_type": "code",
   "execution_count": 12,
   "metadata": {
    "scrolled": true
   },
   "outputs": [
    {
     "data": {
      "text/plain": [
       "array([[[[ 9]],\n",
       "\n",
       "        [[10]],\n",
       "\n",
       "        [[11]],\n",
       "\n",
       "        [[12]],\n",
       "\n",
       "        [[13]],\n",
       "\n",
       "        [[14]],\n",
       "\n",
       "        [[15]],\n",
       "\n",
       "        [[16]],\n",
       "\n",
       "        [[17]],\n",
       "\n",
       "        [[18]],\n",
       "\n",
       "        [[19]],\n",
       "\n",
       "        [[20]],\n",
       "\n",
       "        [[21]],\n",
       "\n",
       "        [[22]],\n",
       "\n",
       "        [[23]],\n",
       "\n",
       "        [[24]]]])"
      ]
     },
     "execution_count": 12,
     "metadata": {},
     "output_type": "execute_result"
    }
   ],
   "source": [
    "outAffinityList[0]"
   ]
  },
  {
   "cell_type": "code",
   "execution_count": null,
   "metadata": {},
   "outputs": [],
   "source": [
    "\n",
    "\n",
    "\n",
    "\n",
    "\n",
    "\n",
    "\n",
    "\n",
    "\n",
    "\n",
    "\n",
    "\n",
    "\n",
    "\n",
    "\n",
    "\n",
    "\n",
    "\n",
    "\n",
    "\n",
    "\n",
    "\n",
    "\n",
    "\n",
    "\n",
    "\n",
    "\n",
    "\n",
    "\n",
    "\n",
    "\n",
    "\n",
    "\n",
    "\n",
    "\n"
   ]
  }
 ],
 "metadata": {
  "kernelspec": {
   "display_name": "Python 3",
   "language": "python",
   "name": "python3"
  },
  "language_info": {
   "codemirror_mode": {
    "name": "ipython",
    "version": 3
   },
   "file_extension": ".py",
   "mimetype": "text/x-python",
   "name": "python",
   "nbconvert_exporter": "python",
   "pygments_lexer": "ipython3",
   "version": "3.6.9"
  }
 },
 "nbformat": 4,
 "nbformat_minor": 4
}
