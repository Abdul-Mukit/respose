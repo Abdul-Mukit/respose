{
 "cells": [
  {
   "cell_type": "markdown",
   "metadata": {},
   "source": [
    "# Objectives\n",
    "In this code, the exported data for aruco-board and cautery pen's tip location is analyzed.\n",
    "The data is stored in the \"output\" folder. Following are the general objectives:\n",
    "* Basic EDA of both the DFs.\n",
    "* Assess if dataset claning is necessary\n",
    "* Produce some sample images and data of tip location detection anomally.\n",
    "* Mean and STD of distance variation between tip and board location for each frame where both were detected\n",
    "* Mean and STD of board location.\n",
    "*  Mean and STD of tip location."
   ]
  },
  {
   "cell_type": "code",
   "execution_count": 1,
   "metadata": {},
   "outputs": [],
   "source": [
    "import pandas as pd\n",
    "import numpy as np\n",
    "import matplotlib as plt"
   ]
  },
  {
   "cell_type": "markdown",
   "metadata": {},
   "source": [
    "# Data: Input_3\n",
    "Folloing are samples of the aruco and tip location data we have. The (x,y,z) coordinate corresponds to the camera coordinate system. Following is the cooridnate system used in opencv. In the data, the Frame column represents the frame number at which the readings were made. All units in the data are in cm.\n",
    "\n",
    "<img src=\"https://docs.opencv.org/2.4/_images/pinhole_camera_model.png\">\n",
    "\n",
    "In the data capture system, the camera was fixed on a rig. The aruco baord was also fixed and was not moved during the video capture. Only the hand containing the pen was moved while keeping the tip of the pen exactly on the tracked point of the aruco board. In every frame of the videos, both hand and the board were sumltaneously present."
   ]
  },
  {
   "cell_type": "code",
   "execution_count": 2,
   "metadata": {},
   "outputs": [],
   "source": [
    "excel_file_name = \"input_3.xlsx\"\n",
    "excel_folder_name = \"output\"\n",
    "excel_file_path = \"./\" + excel_folder_name + \"/\" + excel_file_name\n",
    "tip_locs = pd.read_excel(excel_file_path, sheet_name = \"tip_locs\")\n",
    "board_locs = pd.read_excel(excel_file_path, sheet_name = \"board_locs\")"
   ]
  },
  {
   "cell_type": "code",
   "execution_count": 3,
   "metadata": {},
   "outputs": [
    {
     "name": "stdout",
     "output_type": "stream",
     "text": [
      "Some samples of board_locs:\n"
     ]
    },
    {
     "data": {
      "text/html": [
       "<div>\n",
       "<style scoped>\n",
       "    .dataframe tbody tr th:only-of-type {\n",
       "        vertical-align: middle;\n",
       "    }\n",
       "\n",
       "    .dataframe tbody tr th {\n",
       "        vertical-align: top;\n",
       "    }\n",
       "\n",
       "    .dataframe thead th {\n",
       "        text-align: right;\n",
       "    }\n",
       "</style>\n",
       "<table border=\"1\" class=\"dataframe\">\n",
       "  <thead>\n",
       "    <tr style=\"text-align: right;\">\n",
       "      <th></th>\n",
       "      <th>Frame</th>\n",
       "      <th>x</th>\n",
       "      <th>y</th>\n",
       "      <th>z</th>\n",
       "    </tr>\n",
       "  </thead>\n",
       "  <tbody>\n",
       "    <tr>\n",
       "      <th>0</th>\n",
       "      <td>0</td>\n",
       "      <td>12.769780</td>\n",
       "      <td>-18.635269</td>\n",
       "      <td>180.391304</td>\n",
       "    </tr>\n",
       "    <tr>\n",
       "      <th>1</th>\n",
       "      <td>1</td>\n",
       "      <td>12.764199</td>\n",
       "      <td>-18.574368</td>\n",
       "      <td>179.285543</td>\n",
       "    </tr>\n",
       "    <tr>\n",
       "      <th>2</th>\n",
       "      <td>2</td>\n",
       "      <td>12.739823</td>\n",
       "      <td>-18.613104</td>\n",
       "      <td>179.615867</td>\n",
       "    </tr>\n",
       "    <tr>\n",
       "      <th>3</th>\n",
       "      <td>3</td>\n",
       "      <td>12.770314</td>\n",
       "      <td>-18.633677</td>\n",
       "      <td>179.679383</td>\n",
       "    </tr>\n",
       "    <tr>\n",
       "      <th>4</th>\n",
       "      <td>4</td>\n",
       "      <td>12.739791</td>\n",
       "      <td>-18.608256</td>\n",
       "      <td>179.579969</td>\n",
       "    </tr>\n",
       "  </tbody>\n",
       "</table>\n",
       "</div>"
      ],
      "text/plain": [
       "   Frame          x          y           z\n",
       "0      0  12.769780 -18.635269  180.391304\n",
       "1      1  12.764199 -18.574368  179.285543\n",
       "2      2  12.739823 -18.613104  179.615867\n",
       "3      3  12.770314 -18.633677  179.679383\n",
       "4      4  12.739791 -18.608256  179.579969"
      ]
     },
     "execution_count": 3,
     "metadata": {},
     "output_type": "execute_result"
    }
   ],
   "source": [
    "print(\"Some samples of board_locs:\")\n",
    "board_locs.head()"
   ]
  },
  {
   "cell_type": "code",
   "execution_count": 4,
   "metadata": {},
   "outputs": [
    {
     "name": "stdout",
     "output_type": "stream",
     "text": [
      "Some samples of tip_locs: \n"
     ]
    },
    {
     "data": {
      "text/html": [
       "<div>\n",
       "<style scoped>\n",
       "    .dataframe tbody tr th:only-of-type {\n",
       "        vertical-align: middle;\n",
       "    }\n",
       "\n",
       "    .dataframe tbody tr th {\n",
       "        vertical-align: top;\n",
       "    }\n",
       "\n",
       "    .dataframe thead th {\n",
       "        text-align: right;\n",
       "    }\n",
       "</style>\n",
       "<table border=\"1\" class=\"dataframe\">\n",
       "  <thead>\n",
       "    <tr style=\"text-align: right;\">\n",
       "      <th></th>\n",
       "      <th>Frame</th>\n",
       "      <th>x</th>\n",
       "      <th>y</th>\n",
       "      <th>z</th>\n",
       "    </tr>\n",
       "  </thead>\n",
       "  <tbody>\n",
       "    <tr>\n",
       "      <th>0</th>\n",
       "      <td>0</td>\n",
       "      <td>12.693507</td>\n",
       "      <td>-14.813028</td>\n",
       "      <td>135.519491</td>\n",
       "    </tr>\n",
       "    <tr>\n",
       "      <th>1</th>\n",
       "      <td>1</td>\n",
       "      <td>12.973394</td>\n",
       "      <td>-16.187421</td>\n",
       "      <td>139.869646</td>\n",
       "    </tr>\n",
       "    <tr>\n",
       "      <th>2</th>\n",
       "      <td>2</td>\n",
       "      <td>12.559670</td>\n",
       "      <td>-15.636413</td>\n",
       "      <td>137.283471</td>\n",
       "    </tr>\n",
       "    <tr>\n",
       "      <th>3</th>\n",
       "      <td>3</td>\n",
       "      <td>12.201475</td>\n",
       "      <td>-15.081753</td>\n",
       "      <td>134.405995</td>\n",
       "    </tr>\n",
       "    <tr>\n",
       "      <th>4</th>\n",
       "      <td>4</td>\n",
       "      <td>11.215171</td>\n",
       "      <td>-12.908695</td>\n",
       "      <td>126.342419</td>\n",
       "    </tr>\n",
       "  </tbody>\n",
       "</table>\n",
       "</div>"
      ],
      "text/plain": [
       "   Frame          x          y           z\n",
       "0      0  12.693507 -14.813028  135.519491\n",
       "1      1  12.973394 -16.187421  139.869646\n",
       "2      2  12.559670 -15.636413  137.283471\n",
       "3      3  12.201475 -15.081753  134.405995\n",
       "4      4  11.215171 -12.908695  126.342419"
      ]
     },
     "execution_count": 4,
     "metadata": {},
     "output_type": "execute_result"
    }
   ],
   "source": [
    "print(\"Some samples of tip_locs: \")\n",
    "tip_locs.head()"
   ]
  },
  {
   "cell_type": "markdown",
   "metadata": {},
   "source": [
    "## Basic EDA\n",
    "First lets get a general idea of data.\n",
    "### Board Location EDA\n",
    "Following is the basic EDA of aruco board data.  \n",
    "Mean is \\[12.456506\t-18.456215\t179.064278\\].  \n",
    "Std is \\[0.243353\t0.414915\t6.195173\\].  \n",
    "<b>It seems like the board's location is not that stable. The maximum std is 6.2 cm along the z axis.</b>  \n",
    "<b>Due to this unstability, I won't be using this data for making any conclusions.</b>\n",
    "\n",
    "### Reason for Unstability and Solution:\n",
    "* The camera was too far. In input 1 and 2 the mean distance was about 120 cm. In this input video 3 the distance is 215 cm.\n",
    "* The marker sizes are not large enough. The aruco marker sizes can be made bigger so that the board can be tracked from further away. \n"
   ]
  },
  {
   "cell_type": "code",
   "execution_count": 5,
   "metadata": {},
   "outputs": [
    {
     "name": "stdout",
     "output_type": "stream",
     "text": [
      "Basic board location data stats: \n"
     ]
    },
    {
     "data": {
      "text/html": [
       "<div>\n",
       "<style scoped>\n",
       "    .dataframe tbody tr th:only-of-type {\n",
       "        vertical-align: middle;\n",
       "    }\n",
       "\n",
       "    .dataframe tbody tr th {\n",
       "        vertical-align: top;\n",
       "    }\n",
       "\n",
       "    .dataframe thead th {\n",
       "        text-align: right;\n",
       "    }\n",
       "</style>\n",
       "<table border=\"1\" class=\"dataframe\">\n",
       "  <thead>\n",
       "    <tr style=\"text-align: right;\">\n",
       "      <th></th>\n",
       "      <th>Frame</th>\n",
       "      <th>x</th>\n",
       "      <th>y</th>\n",
       "      <th>z</th>\n",
       "    </tr>\n",
       "  </thead>\n",
       "  <tbody>\n",
       "    <tr>\n",
       "      <th>count</th>\n",
       "      <td>215.000000</td>\n",
       "      <td>215.000000</td>\n",
       "      <td>215.000000</td>\n",
       "      <td>215.000000</td>\n",
       "    </tr>\n",
       "    <tr>\n",
       "      <th>mean</th>\n",
       "      <td>107.841860</td>\n",
       "      <td>12.456506</td>\n",
       "      <td>-18.456215</td>\n",
       "      <td>179.064278</td>\n",
       "    </tr>\n",
       "    <tr>\n",
       "      <th>std</th>\n",
       "      <td>63.204705</td>\n",
       "      <td>0.243353</td>\n",
       "      <td>0.414915</td>\n",
       "      <td>6.195173</td>\n",
       "    </tr>\n",
       "    <tr>\n",
       "      <th>min</th>\n",
       "      <td>0.000000</td>\n",
       "      <td>10.683979</td>\n",
       "      <td>-21.794323</td>\n",
       "      <td>127.231245</td>\n",
       "    </tr>\n",
       "    <tr>\n",
       "      <th>25%</th>\n",
       "      <td>53.500000</td>\n",
       "      <td>12.411336</td>\n",
       "      <td>-18.439637</td>\n",
       "      <td>179.601640</td>\n",
       "    </tr>\n",
       "    <tr>\n",
       "      <th>50%</th>\n",
       "      <td>107.000000</td>\n",
       "      <td>12.452873</td>\n",
       "      <td>-18.405709</td>\n",
       "      <td>179.799141</td>\n",
       "    </tr>\n",
       "    <tr>\n",
       "      <th>75%</th>\n",
       "      <td>162.500000</td>\n",
       "      <td>12.515707</td>\n",
       "      <td>-18.355194</td>\n",
       "      <td>180.060777</td>\n",
       "    </tr>\n",
       "    <tr>\n",
       "      <th>max</th>\n",
       "      <td>217.000000</td>\n",
       "      <td>12.880782</td>\n",
       "      <td>-18.024897</td>\n",
       "      <td>181.062635</td>\n",
       "    </tr>\n",
       "  </tbody>\n",
       "</table>\n",
       "</div>"
      ],
      "text/plain": [
       "            Frame           x           y           z\n",
       "count  215.000000  215.000000  215.000000  215.000000\n",
       "mean   107.841860   12.456506  -18.456215  179.064278\n",
       "std     63.204705    0.243353    0.414915    6.195173\n",
       "min      0.000000   10.683979  -21.794323  127.231245\n",
       "25%     53.500000   12.411336  -18.439637  179.601640\n",
       "50%    107.000000   12.452873  -18.405709  179.799141\n",
       "75%    162.500000   12.515707  -18.355194  180.060777\n",
       "max    217.000000   12.880782  -18.024897  181.062635"
      ]
     },
     "execution_count": 5,
     "metadata": {},
     "output_type": "execute_result"
    }
   ],
   "source": [
    "print(\"Basic board location data stats: \")\n",
    "board_locs.describe()"
   ]
  },
  {
   "cell_type": "markdown",
   "metadata": {},
   "source": [
    "### Tip Location EDA\n",
    "Following is the basic EDA of tip location data.  \n",
    "From the data, location mean is = \\[9.609186\t-12.780254\t124.425493\\]  \n",
    "std is \\[5.294586\t6.073354\t31.340169\\].  \n",
    "From std information it seems that in every axis the estimation varies a lot, with minimum of 5.2 cm in x axis and 31.34 cm in z axis.\n",
    "\n",
    "In comparison to input_1 video's data, this variation is much higher. In input_1 video, max std of z axis (5 cm)."
   ]
  },
  {
   "cell_type": "code",
   "execution_count": 6,
   "metadata": {},
   "outputs": [
    {
     "name": "stdout",
     "output_type": "stream",
     "text": [
      "Basic tip_locs stats: \n"
     ]
    },
    {
     "data": {
      "text/html": [
       "<div>\n",
       "<style scoped>\n",
       "    .dataframe tbody tr th:only-of-type {\n",
       "        vertical-align: middle;\n",
       "    }\n",
       "\n",
       "    .dataframe tbody tr th {\n",
       "        vertical-align: top;\n",
       "    }\n",
       "\n",
       "    .dataframe thead th {\n",
       "        text-align: right;\n",
       "    }\n",
       "</style>\n",
       "<table border=\"1\" class=\"dataframe\">\n",
       "  <thead>\n",
       "    <tr style=\"text-align: right;\">\n",
       "      <th></th>\n",
       "      <th>Frame</th>\n",
       "      <th>x</th>\n",
       "      <th>y</th>\n",
       "      <th>z</th>\n",
       "    </tr>\n",
       "  </thead>\n",
       "  <tbody>\n",
       "    <tr>\n",
       "      <th>count</th>\n",
       "      <td>172.000000</td>\n",
       "      <td>172.000000</td>\n",
       "      <td>172.000000</td>\n",
       "      <td>172.000000</td>\n",
       "    </tr>\n",
       "    <tr>\n",
       "      <th>mean</th>\n",
       "      <td>105.424419</td>\n",
       "      <td>9.609186</td>\n",
       "      <td>-12.780254</td>\n",
       "      <td>124.425493</td>\n",
       "    </tr>\n",
       "    <tr>\n",
       "      <th>std</th>\n",
       "      <td>67.570453</td>\n",
       "      <td>5.294586</td>\n",
       "      <td>6.073354</td>\n",
       "      <td>31.340169</td>\n",
       "    </tr>\n",
       "    <tr>\n",
       "      <th>min</th>\n",
       "      <td>0.000000</td>\n",
       "      <td>-1.840613</td>\n",
       "      <td>-64.445849</td>\n",
       "      <td>0.202999</td>\n",
       "    </tr>\n",
       "    <tr>\n",
       "      <th>25%</th>\n",
       "      <td>42.750000</td>\n",
       "      <td>8.323953</td>\n",
       "      <td>-14.340235</td>\n",
       "      <td>120.239578</td>\n",
       "    </tr>\n",
       "    <tr>\n",
       "      <th>50%</th>\n",
       "      <td>102.500000</td>\n",
       "      <td>9.837778</td>\n",
       "      <td>-13.167778</td>\n",
       "      <td>125.250937</td>\n",
       "    </tr>\n",
       "    <tr>\n",
       "      <th>75%</th>\n",
       "      <td>167.250000</td>\n",
       "      <td>11.654279</td>\n",
       "      <td>-11.378989</td>\n",
       "      <td>129.086562</td>\n",
       "    </tr>\n",
       "    <tr>\n",
       "      <th>max</th>\n",
       "      <td>217.000000</td>\n",
       "      <td>53.480602</td>\n",
       "      <td>18.354326</td>\n",
       "      <td>407.717364</td>\n",
       "    </tr>\n",
       "  </tbody>\n",
       "</table>\n",
       "</div>"
      ],
      "text/plain": [
       "            Frame           x           y           z\n",
       "count  172.000000  172.000000  172.000000  172.000000\n",
       "mean   105.424419    9.609186  -12.780254  124.425493\n",
       "std     67.570453    5.294586    6.073354   31.340169\n",
       "min      0.000000   -1.840613  -64.445849    0.202999\n",
       "25%     42.750000    8.323953  -14.340235  120.239578\n",
       "50%    102.500000    9.837778  -13.167778  125.250937\n",
       "75%    167.250000   11.654279  -11.378989  129.086562\n",
       "max    217.000000   53.480602   18.354326  407.717364"
      ]
     },
     "execution_count": 6,
     "metadata": {},
     "output_type": "execute_result"
    }
   ],
   "source": [
    "print(\"Basic tip_locs stats: \")\n",
    "tip_locs.describe()"
   ]
  },
  {
   "cell_type": "markdown",
   "metadata": {},
   "source": [
    "### Possible Anomalies in Tip Location Data\n",
    "As DOPE isn't perfect, there might be several outliers affecting the above EDA. In this part, let's look at some of this possible sources annomalies.\n",
    "\n",
    "#### Duplicates in tip_locs\n",
    "Frame number will be duplicates if in any frame two cubes were identified by dope. For input_3 it seems like there are no duplicates in \"Frame\" column."
   ]
  },
  {
   "cell_type": "code",
   "execution_count": 7,
   "metadata": {},
   "outputs": [
    {
     "name": "stdout",
     "output_type": "stream",
     "text": [
      "Number of frames with more than one cube identified: 0\n"
     ]
    }
   ],
   "source": [
    "dups = tip_locs[\"Frame\"].duplicated()\n",
    "print(\"Number of frames with more than one cube identified: {}\".format(dups.sum()))\n"
   ]
  },
  {
   "cell_type": "markdown",
   "metadata": {},
   "source": [
    "#### Anomalous Detecion\n",
    "Sometimes DOPE estimates other objects wrongly as the hand carrying the pen. I did keep the background as clean as possible to test in ideal conditions. However, there might be anomalies. Following are the plots of the coordinates in cm."
   ]
  },
  {
   "cell_type": "code",
   "execution_count": 18,
   "metadata": {},
   "outputs": [
    {
     "data": {
      "text/plain": [
       "<matplotlib.axes._subplots.AxesSubplot at 0x7fa9ac7f4ad0>"
      ]
     },
     "execution_count": 18,
     "metadata": {},
     "output_type": "execute_result"
    },
    {
     "data": {
      "image/png": "[encoded data removed]",
      "text/plain": [
       "<Figure size 432x288 with 1 Axes>"
      ]
     },
     "metadata": {
      "needs_background": "light"
     },
     "output_type": "display_data"
    }
   ],
   "source": [
    "tip_locs.plot(\"Frame\")"
   ]
  },
  {
   "cell_type": "markdown",
   "metadata": {},
   "source": [
    "From the plot it can be safely assumed that out of 172 frames, at-least in 7 frames the detection was anomalous. I will not be deleting these entries from the data. That is because, these anomalies actually represent the real behaviour of DOPE in experiment."
   ]
  },
  {
   "cell_type": "markdown",
   "metadata": {},
   "source": [
    "## Tip Tracking Validation\n",
    "Let's now validate the tip localization. To do that, I will consider only those frames where both tip and board was identified."
   ]
  },
  {
   "cell_type": "code",
   "execution_count": 9,
   "metadata": {},
   "outputs": [
    {
     "data": {
      "text/html": [
       "<div>\n",
       "<style scoped>\n",
       "    .dataframe tbody tr th:only-of-type {\n",
       "        vertical-align: middle;\n",
       "    }\n",
       "\n",
       "    .dataframe tbody tr th {\n",
       "        vertical-align: top;\n",
       "    }\n",
       "\n",
       "    .dataframe thead th {\n",
       "        text-align: right;\n",
       "    }\n",
       "</style>\n",
       "<table border=\"1\" class=\"dataframe\">\n",
       "  <thead>\n",
       "    <tr style=\"text-align: right;\">\n",
       "      <th></th>\n",
       "      <th>Frame</th>\n",
       "      <th>x</th>\n",
       "      <th>y</th>\n",
       "      <th>z</th>\n",
       "    </tr>\n",
       "  </thead>\n",
       "  <tbody>\n",
       "    <tr>\n",
       "      <th>count</th>\n",
       "      <td>169.000000</td>\n",
       "      <td>169.000000</td>\n",
       "      <td>169.000000</td>\n",
       "      <td>169.000000</td>\n",
       "    </tr>\n",
       "    <tr>\n",
       "      <th>mean</th>\n",
       "      <td>104.532544</td>\n",
       "      <td>12.462118</td>\n",
       "      <td>-18.470869</td>\n",
       "      <td>178.851128</td>\n",
       "    </tr>\n",
       "    <tr>\n",
       "      <th>std</th>\n",
       "      <td>67.760348</td>\n",
       "      <td>0.269308</td>\n",
       "      <td>0.463061</td>\n",
       "      <td>6.972042</td>\n",
       "    </tr>\n",
       "    <tr>\n",
       "      <th>min</th>\n",
       "      <td>0.000000</td>\n",
       "      <td>10.683979</td>\n",
       "      <td>-21.794323</td>\n",
       "      <td>127.231245</td>\n",
       "    </tr>\n",
       "    <tr>\n",
       "      <th>25%</th>\n",
       "      <td>42.000000</td>\n",
       "      <td>12.417903</td>\n",
       "      <td>-18.444679</td>\n",
       "      <td>179.601990</td>\n",
       "    </tr>\n",
       "    <tr>\n",
       "      <th>50%</th>\n",
       "      <td>101.000000</td>\n",
       "      <td>12.462420</td>\n",
       "      <td>-18.404249</td>\n",
       "      <td>179.764216</td>\n",
       "    </tr>\n",
       "    <tr>\n",
       "      <th>75%</th>\n",
       "      <td>167.000000</td>\n",
       "      <td>12.525464</td>\n",
       "      <td>-18.353758</td>\n",
       "      <td>180.049286</td>\n",
       "    </tr>\n",
       "    <tr>\n",
       "      <th>max</th>\n",
       "      <td>217.000000</td>\n",
       "      <td>12.880782</td>\n",
       "      <td>-18.024897</td>\n",
       "      <td>181.062635</td>\n",
       "    </tr>\n",
       "  </tbody>\n",
       "</table>\n",
       "</div>"
      ],
      "text/plain": [
       "            Frame           x           y           z\n",
       "count  169.000000  169.000000  169.000000  169.000000\n",
       "mean   104.532544   12.462118  -18.470869  178.851128\n",
       "std     67.760348    0.269308    0.463061    6.972042\n",
       "min      0.000000   10.683979  -21.794323  127.231245\n",
       "25%     42.000000   12.417903  -18.444679  179.601990\n",
       "50%    101.000000   12.462420  -18.404249  179.764216\n",
       "75%    167.000000   12.525464  -18.353758  180.049286\n",
       "max    217.000000   12.880782  -18.024897  181.062635"
      ]
     },
     "execution_count": 9,
     "metadata": {},
     "output_type": "execute_result"
    }
   ],
   "source": [
    "common_board_locs = board_locs[board_locs.Frame.isin(tip_locs.Frame)] \n",
    "common_board_locs.describe()"
   ]
  },
  {
   "cell_type": "code",
   "execution_count": 10,
   "metadata": {},
   "outputs": [
    {
     "data": {
      "text/html": [
       "<div>\n",
       "<style scoped>\n",
       "    .dataframe tbody tr th:only-of-type {\n",
       "        vertical-align: middle;\n",
       "    }\n",
       "\n",
       "    .dataframe tbody tr th {\n",
       "        vertical-align: top;\n",
       "    }\n",
       "\n",
       "    .dataframe thead th {\n",
       "        text-align: right;\n",
       "    }\n",
       "</style>\n",
       "<table border=\"1\" class=\"dataframe\">\n",
       "  <thead>\n",
       "    <tr style=\"text-align: right;\">\n",
       "      <th></th>\n",
       "      <th>Frame</th>\n",
       "      <th>x</th>\n",
       "      <th>y</th>\n",
       "      <th>z</th>\n",
       "    </tr>\n",
       "  </thead>\n",
       "  <tbody>\n",
       "    <tr>\n",
       "      <th>count</th>\n",
       "      <td>169.000000</td>\n",
       "      <td>169.000000</td>\n",
       "      <td>169.000000</td>\n",
       "      <td>169.000000</td>\n",
       "    </tr>\n",
       "    <tr>\n",
       "      <th>mean</th>\n",
       "      <td>104.532544</td>\n",
       "      <td>9.579886</td>\n",
       "      <td>-12.761004</td>\n",
       "      <td>124.346456</td>\n",
       "    </tr>\n",
       "    <tr>\n",
       "      <th>std</th>\n",
       "      <td>67.760348</td>\n",
       "      <td>5.318879</td>\n",
       "      <td>6.125325</td>\n",
       "      <td>31.611011</td>\n",
       "    </tr>\n",
       "    <tr>\n",
       "      <th>min</th>\n",
       "      <td>0.000000</td>\n",
       "      <td>-1.840613</td>\n",
       "      <td>-64.445849</td>\n",
       "      <td>0.202999</td>\n",
       "    </tr>\n",
       "    <tr>\n",
       "      <th>25%</th>\n",
       "      <td>42.000000</td>\n",
       "      <td>8.335823</td>\n",
       "      <td>-14.337993</td>\n",
       "      <td>120.154856</td>\n",
       "    </tr>\n",
       "    <tr>\n",
       "      <th>50%</th>\n",
       "      <td>101.000000</td>\n",
       "      <td>9.811695</td>\n",
       "      <td>-13.119537</td>\n",
       "      <td>125.113677</td>\n",
       "    </tr>\n",
       "    <tr>\n",
       "      <th>75%</th>\n",
       "      <td>167.000000</td>\n",
       "      <td>11.627485</td>\n",
       "      <td>-11.323952</td>\n",
       "      <td>129.069906</td>\n",
       "    </tr>\n",
       "    <tr>\n",
       "      <th>max</th>\n",
       "      <td>217.000000</td>\n",
       "      <td>53.480602</td>\n",
       "      <td>18.354326</td>\n",
       "      <td>407.717364</td>\n",
       "    </tr>\n",
       "  </tbody>\n",
       "</table>\n",
       "</div>"
      ],
      "text/plain": [
       "            Frame           x           y           z\n",
       "count  169.000000  169.000000  169.000000  169.000000\n",
       "mean   104.532544    9.579886  -12.761004  124.346456\n",
       "std     67.760348    5.318879    6.125325   31.611011\n",
       "min      0.000000   -1.840613  -64.445849    0.202999\n",
       "25%     42.000000    8.335823  -14.337993  120.154856\n",
       "50%    101.000000    9.811695  -13.119537  125.113677\n",
       "75%    167.000000   11.627485  -11.323952  129.069906\n",
       "max    217.000000   53.480602   18.354326  407.717364"
      ]
     },
     "execution_count": 10,
     "metadata": {},
     "output_type": "execute_result"
    }
   ],
   "source": [
    "common_tip_locs = tip_locs[tip_locs.Frame.isin(board_locs.Frame)]\n",
    "common_tip_locs.describe()"
   ]
  },
  {
   "cell_type": "markdown",
   "metadata": {},
   "source": [
    "The mean and STD of the difference between estimated board and tip locations are:"
   ]
  },
  {
   "cell_type": "code",
   "execution_count": 19,
   "metadata": {},
   "outputs": [
    {
     "name": "stdout",
     "output_type": "stream",
     "text": [
      "Mean:\n",
      "x     2.885359\n",
      "y    -5.733414\n",
      "z    54.856164\n",
      "dtype: float64\n",
      "\n",
      "STD:\n",
      "x     5.438093\n",
      "y     6.156647\n",
      "z    33.587753\n",
      "dtype: float64\n"
     ]
    }
   ],
   "source": [
    "print(\"Mean:\")\n",
    "print(np.mean(common_board_locs[[\"x\",\"y\",\"z\"]] - common_tip_locs[[\"x\",\"y\",\"z\"]]))\n",
    "print(\"\\nSTD:\")\n",
    "print(np.std(common_board_locs[[\"x\",\"y\",\"z\"]] - common_tip_locs[[\"x\",\"y\",\"z\"]]))"
   ]
  },
  {
   "cell_type": "code",
   "execution_count": null,
   "metadata": {},
   "outputs": [],
   "source": []
  }
 ],
 "metadata": {
  "kernelspec": {
   "display_name": "Python 2",
   "language": "python",
   "name": "python2"
  },
  "language_info": {
   "codemirror_mode": {
    "name": "ipython",
    "version": 2
   },
   "file_extension": ".py",
   "mimetype": "text/x-python",
   "name": "python",
   "nbconvert_exporter": "python",
   "pygments_lexer": "ipython2",
   "version": "2.7.12"
  }
 },
 "nbformat": 4,
 "nbformat_minor": 2
}
