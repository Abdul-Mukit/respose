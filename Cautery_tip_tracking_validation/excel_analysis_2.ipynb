{
 "cells": [
  {
   "cell_type": "markdown",
   "metadata": {},
   "source": [
    "# Objectives\n",
    "In this code, the exported data for aruco-board and cautery pen's tip location is analyzed.\n",
    "The data is stored in the \"output\" folder. Following are the general objectives:\n",
    "* Basic EDA of both the DFs.\n",
    "* Assess if dataset claning is necessary\n",
    "* Produce some sample images and data of tip location detection anomally.\n",
    "* Mean and STD of distance variation between tip and board location for each frame where both were detected\n",
    "* Mean and STD of board location.\n",
    "*  Mean and STD of tip location."
   ]
  },
  {
   "cell_type": "code",
   "execution_count": 1,
   "metadata": {},
   "outputs": [],
   "source": [
    "import pandas as pd\n",
    "import numpy as np\n",
    "import matplotlib as plt"
   ]
  },
  {
   "cell_type": "markdown",
   "metadata": {},
   "source": [
    "# Data: Input_2\n",
    "Folloing are samples of the aruco and tip location data we have. The (x,y,z) coordinate corresponds to the camera coordinate system. Following is the cooridnate system used in opencv. In the data, the Frame column represents the frame number at which the readings were made. All units in the data are in cm.\n",
    "\n",
    "<img src=\"https://docs.opencv.org/2.4/_images/pinhole_camera_model.png\">\n",
    "\n",
    "In the data capture system, the camera was fixed on a rig. The aruco baord was also fixed and was not moved during the video capture. Only the hand containing the pen was moved while keeping the tip of the pen exactly on the tracked point of the aruco board. In every frame of the videos, both hand and the board were sumltaneously present."
   ]
  },
  {
   "cell_type": "code",
   "execution_count": 2,
   "metadata": {},
   "outputs": [],
   "source": [
    "excel_file_name = \"input_2.xlsx\"\n",
    "excel_folder_name = \"output\"\n",
    "excel_file_path = \"./\" + excel_folder_name + \"/\" + excel_file_name\n",
    "tip_locs = pd.read_excel(excel_file_path, sheet_name = \"tip_locs\")\n",
    "board_locs = pd.read_excel(excel_file_path, sheet_name = \"board_locs\")"
   ]
  },
  {
   "cell_type": "code",
   "execution_count": 3,
   "metadata": {},
   "outputs": [
    {
     "name": "stdout",
     "output_type": "stream",
     "text": [
      "Some samples of board_locs:\n"
     ]
    },
    {
     "data": {
      "text/html": [
       "<div>\n",
       "<style scoped>\n",
       "    .dataframe tbody tr th:only-of-type {\n",
       "        vertical-align: middle;\n",
       "    }\n",
       "\n",
       "    .dataframe tbody tr th {\n",
       "        vertical-align: top;\n",
       "    }\n",
       "\n",
       "    .dataframe thead th {\n",
       "        text-align: right;\n",
       "    }\n",
       "</style>\n",
       "<table border=\"1\" class=\"dataframe\">\n",
       "  <thead>\n",
       "    <tr style=\"text-align: right;\">\n",
       "      <th></th>\n",
       "      <th>Frame</th>\n",
       "      <th>x</th>\n",
       "      <th>y</th>\n",
       "      <th>z</th>\n",
       "    </tr>\n",
       "  </thead>\n",
       "  <tbody>\n",
       "    <tr>\n",
       "      <th>0</th>\n",
       "      <td>0</td>\n",
       "      <td>20.880371</td>\n",
       "      <td>24.985730</td>\n",
       "      <td>116.788940</td>\n",
       "    </tr>\n",
       "    <tr>\n",
       "      <th>1</th>\n",
       "      <td>1</td>\n",
       "      <td>21.311613</td>\n",
       "      <td>24.938048</td>\n",
       "      <td>116.905841</td>\n",
       "    </tr>\n",
       "    <tr>\n",
       "      <th>2</th>\n",
       "      <td>2</td>\n",
       "      <td>21.249105</td>\n",
       "      <td>24.929874</td>\n",
       "      <td>116.758714</td>\n",
       "    </tr>\n",
       "    <tr>\n",
       "      <th>3</th>\n",
       "      <td>3</td>\n",
       "      <td>21.138753</td>\n",
       "      <td>24.993437</td>\n",
       "      <td>116.805744</td>\n",
       "    </tr>\n",
       "    <tr>\n",
       "      <th>4</th>\n",
       "      <td>4</td>\n",
       "      <td>21.045510</td>\n",
       "      <td>24.994587</td>\n",
       "      <td>116.803087</td>\n",
       "    </tr>\n",
       "  </tbody>\n",
       "</table>\n",
       "</div>"
      ],
      "text/plain": [
       "   Frame          x          y           z\n",
       "0      0  20.880371  24.985730  116.788940\n",
       "1      1  21.311613  24.938048  116.905841\n",
       "2      2  21.249105  24.929874  116.758714\n",
       "3      3  21.138753  24.993437  116.805744\n",
       "4      4  21.045510  24.994587  116.803087"
      ]
     },
     "execution_count": 3,
     "metadata": {},
     "output_type": "execute_result"
    }
   ],
   "source": [
    "print(\"Some samples of board_locs:\")\n",
    "board_locs.head()"
   ]
  },
  {
   "cell_type": "code",
   "execution_count": 4,
   "metadata": {},
   "outputs": [
    {
     "name": "stdout",
     "output_type": "stream",
     "text": [
      "Some samples of tip_locs: \n"
     ]
    },
    {
     "data": {
      "text/html": [
       "<div>\n",
       "<style scoped>\n",
       "    .dataframe tbody tr th:only-of-type {\n",
       "        vertical-align: middle;\n",
       "    }\n",
       "\n",
       "    .dataframe tbody tr th {\n",
       "        vertical-align: top;\n",
       "    }\n",
       "\n",
       "    .dataframe thead th {\n",
       "        text-align: right;\n",
       "    }\n",
       "</style>\n",
       "<table border=\"1\" class=\"dataframe\">\n",
       "  <thead>\n",
       "    <tr style=\"text-align: right;\">\n",
       "      <th></th>\n",
       "      <th>Frame</th>\n",
       "      <th>x</th>\n",
       "      <th>y</th>\n",
       "      <th>z</th>\n",
       "    </tr>\n",
       "  </thead>\n",
       "  <tbody>\n",
       "    <tr>\n",
       "      <th>0</th>\n",
       "      <td>10</td>\n",
       "      <td>21.559866</td>\n",
       "      <td>21.166268</td>\n",
       "      <td>100.017736</td>\n",
       "    </tr>\n",
       "    <tr>\n",
       "      <th>1</th>\n",
       "      <td>11</td>\n",
       "      <td>15.937272</td>\n",
       "      <td>16.383356</td>\n",
       "      <td>80.467353</td>\n",
       "    </tr>\n",
       "    <tr>\n",
       "      <th>2</th>\n",
       "      <td>12</td>\n",
       "      <td>21.066827</td>\n",
       "      <td>17.923274</td>\n",
       "      <td>95.467123</td>\n",
       "    </tr>\n",
       "    <tr>\n",
       "      <th>3</th>\n",
       "      <td>13</td>\n",
       "      <td>19.127123</td>\n",
       "      <td>17.177702</td>\n",
       "      <td>89.382930</td>\n",
       "    </tr>\n",
       "    <tr>\n",
       "      <th>4</th>\n",
       "      <td>14</td>\n",
       "      <td>19.032855</td>\n",
       "      <td>16.209526</td>\n",
       "      <td>89.972221</td>\n",
       "    </tr>\n",
       "  </tbody>\n",
       "</table>\n",
       "</div>"
      ],
      "text/plain": [
       "   Frame          x          y           z\n",
       "0     10  21.559866  21.166268  100.017736\n",
       "1     11  15.937272  16.383356   80.467353\n",
       "2     12  21.066827  17.923274   95.467123\n",
       "3     13  19.127123  17.177702   89.382930\n",
       "4     14  19.032855  16.209526   89.972221"
      ]
     },
     "execution_count": 4,
     "metadata": {},
     "output_type": "execute_result"
    }
   ],
   "source": [
    "print(\"Some samples of tip_locs: \")\n",
    "tip_locs.head()"
   ]
  },
  {
   "cell_type": "markdown",
   "metadata": {},
   "source": [
    "## Basic EDA\n",
    "First lets get a general idea of data.\n",
    "### Board Location EDA\n",
    "Following is the basic EDA of aruco board data.  \n",
    "Mean is \\[20.807605\t25.017660\t116.589964\\].  \n",
    "Std is \\[0.176844\t0.020978\t0.146888\\].  \n",
    "It seems like the board's location is pretty stable. The maximum std is only 0.17 cm along the x axis."
   ]
  },
  {
   "cell_type": "code",
   "execution_count": 5,
   "metadata": {},
   "outputs": [
    {
     "name": "stdout",
     "output_type": "stream",
     "text": [
      "Basic board location data stats: \n"
     ]
    },
    {
     "data": {
      "text/html": [
       "<div>\n",
       "<style scoped>\n",
       "    .dataframe tbody tr th:only-of-type {\n",
       "        vertical-align: middle;\n",
       "    }\n",
       "\n",
       "    .dataframe tbody tr th {\n",
       "        vertical-align: top;\n",
       "    }\n",
       "\n",
       "    .dataframe thead th {\n",
       "        text-align: right;\n",
       "    }\n",
       "</style>\n",
       "<table border=\"1\" class=\"dataframe\">\n",
       "  <thead>\n",
       "    <tr style=\"text-align: right;\">\n",
       "      <th></th>\n",
       "      <th>Frame</th>\n",
       "      <th>x</th>\n",
       "      <th>y</th>\n",
       "      <th>z</th>\n",
       "    </tr>\n",
       "  </thead>\n",
       "  <tbody>\n",
       "    <tr>\n",
       "      <th>count</th>\n",
       "      <td>249.000000</td>\n",
       "      <td>249.000000</td>\n",
       "      <td>249.000000</td>\n",
       "      <td>249.000000</td>\n",
       "    </tr>\n",
       "    <tr>\n",
       "      <th>mean</th>\n",
       "      <td>124.000000</td>\n",
       "      <td>20.807605</td>\n",
       "      <td>25.017660</td>\n",
       "      <td>116.589964</td>\n",
       "    </tr>\n",
       "    <tr>\n",
       "      <th>std</th>\n",
       "      <td>72.024301</td>\n",
       "      <td>0.176844</td>\n",
       "      <td>0.020978</td>\n",
       "      <td>0.146888</td>\n",
       "    </tr>\n",
       "    <tr>\n",
       "      <th>min</th>\n",
       "      <td>0.000000</td>\n",
       "      <td>20.603024</td>\n",
       "      <td>24.929874</td>\n",
       "      <td>116.303842</td>\n",
       "    </tr>\n",
       "    <tr>\n",
       "      <th>25%</th>\n",
       "      <td>62.000000</td>\n",
       "      <td>20.662478</td>\n",
       "      <td>25.001939</td>\n",
       "      <td>116.473077</td>\n",
       "    </tr>\n",
       "    <tr>\n",
       "      <th>50%</th>\n",
       "      <td>124.000000</td>\n",
       "      <td>20.696869</td>\n",
       "      <td>25.017570</td>\n",
       "      <td>116.537212</td>\n",
       "    </tr>\n",
       "    <tr>\n",
       "      <th>75%</th>\n",
       "      <td>186.000000</td>\n",
       "      <td>21.020370</td>\n",
       "      <td>25.034639</td>\n",
       "      <td>116.747465</td>\n",
       "    </tr>\n",
       "    <tr>\n",
       "      <th>max</th>\n",
       "      <td>248.000000</td>\n",
       "      <td>21.311613</td>\n",
       "      <td>25.062135</td>\n",
       "      <td>116.905841</td>\n",
       "    </tr>\n",
       "  </tbody>\n",
       "</table>\n",
       "</div>"
      ],
      "text/plain": [
       "            Frame           x           y           z\n",
       "count  249.000000  249.000000  249.000000  249.000000\n",
       "mean   124.000000   20.807605   25.017660  116.589964\n",
       "std     72.024301    0.176844    0.020978    0.146888\n",
       "min      0.000000   20.603024   24.929874  116.303842\n",
       "25%     62.000000   20.662478   25.001939  116.473077\n",
       "50%    124.000000   20.696869   25.017570  116.537212\n",
       "75%    186.000000   21.020370   25.034639  116.747465\n",
       "max    248.000000   21.311613   25.062135  116.905841"
      ]
     },
     "execution_count": 5,
     "metadata": {},
     "output_type": "execute_result"
    }
   ],
   "source": [
    "print(\"Basic board location data stats: \")\n",
    "board_locs.describe()"
   ]
  },
  {
   "cell_type": "markdown",
   "metadata": {},
   "source": [
    "### Tip Location EDA\n",
    "Following is the basic EDA of tip location data.  \n",
    "From the data, location mean is = \\[18.973444\t17.550786\t93.035197\\]  \n",
    "std is \\[5.955726\t6.203668\t22.588288\\].  \n",
    "From std information it seems that in every axis the estimation varies a lot, with minimum of 6 cm in x axis and 22.58 cm in z axis.\n",
    "\n",
    "In comparison to input_1 video's data, this is much higher. In input_1 video, max std of z axis (5 cm)."
   ]
  },
  {
   "cell_type": "code",
   "execution_count": 6,
   "metadata": {},
   "outputs": [
    {
     "name": "stdout",
     "output_type": "stream",
     "text": [
      "Basic tip_locs stats: \n"
     ]
    },
    {
     "data": {
      "text/html": [
       "<div>\n",
       "<style scoped>\n",
       "    .dataframe tbody tr th:only-of-type {\n",
       "        vertical-align: middle;\n",
       "    }\n",
       "\n",
       "    .dataframe tbody tr th {\n",
       "        vertical-align: top;\n",
       "    }\n",
       "\n",
       "    .dataframe thead th {\n",
       "        text-align: right;\n",
       "    }\n",
       "</style>\n",
       "<table border=\"1\" class=\"dataframe\">\n",
       "  <thead>\n",
       "    <tr style=\"text-align: right;\">\n",
       "      <th></th>\n",
       "      <th>Frame</th>\n",
       "      <th>x</th>\n",
       "      <th>y</th>\n",
       "      <th>z</th>\n",
       "    </tr>\n",
       "  </thead>\n",
       "  <tbody>\n",
       "    <tr>\n",
       "      <th>count</th>\n",
       "      <td>182.000000</td>\n",
       "      <td>182.000000</td>\n",
       "      <td>182.000000</td>\n",
       "      <td>182.000000</td>\n",
       "    </tr>\n",
       "    <tr>\n",
       "      <th>mean</th>\n",
       "      <td>138.368132</td>\n",
       "      <td>18.973444</td>\n",
       "      <td>17.550786</td>\n",
       "      <td>93.035197</td>\n",
       "    </tr>\n",
       "    <tr>\n",
       "      <th>std</th>\n",
       "      <td>70.227662</td>\n",
       "      <td>5.955726</td>\n",
       "      <td>6.203668</td>\n",
       "      <td>22.588288</td>\n",
       "    </tr>\n",
       "    <tr>\n",
       "      <th>min</th>\n",
       "      <td>10.000000</td>\n",
       "      <td>1.488969</td>\n",
       "      <td>-19.396569</td>\n",
       "      <td>0.004712</td>\n",
       "    </tr>\n",
       "    <tr>\n",
       "      <th>25%</th>\n",
       "      <td>77.250000</td>\n",
       "      <td>15.939588</td>\n",
       "      <td>16.217806</td>\n",
       "      <td>89.832410</td>\n",
       "    </tr>\n",
       "    <tr>\n",
       "      <th>50%</th>\n",
       "      <td>148.500000</td>\n",
       "      <td>18.621758</td>\n",
       "      <td>18.074069</td>\n",
       "      <td>93.795821</td>\n",
       "    </tr>\n",
       "    <tr>\n",
       "      <th>75%</th>\n",
       "      <td>200.750000</td>\n",
       "      <td>21.558856</td>\n",
       "      <td>20.021414</td>\n",
       "      <td>102.369283</td>\n",
       "    </tr>\n",
       "    <tr>\n",
       "      <th>max</th>\n",
       "      <td>247.000000</td>\n",
       "      <td>39.726533</td>\n",
       "      <td>27.977154</td>\n",
       "      <td>129.392684</td>\n",
       "    </tr>\n",
       "  </tbody>\n",
       "</table>\n",
       "</div>"
      ],
      "text/plain": [
       "            Frame           x           y           z\n",
       "count  182.000000  182.000000  182.000000  182.000000\n",
       "mean   138.368132   18.973444   17.550786   93.035197\n",
       "std     70.227662    5.955726    6.203668   22.588288\n",
       "min     10.000000    1.488969  -19.396569    0.004712\n",
       "25%     77.250000   15.939588   16.217806   89.832410\n",
       "50%    148.500000   18.621758   18.074069   93.795821\n",
       "75%    200.750000   21.558856   20.021414  102.369283\n",
       "max    247.000000   39.726533   27.977154  129.392684"
      ]
     },
     "execution_count": 6,
     "metadata": {},
     "output_type": "execute_result"
    }
   ],
   "source": [
    "print(\"Basic tip_locs stats: \")\n",
    "tip_locs.describe()"
   ]
  },
  {
   "cell_type": "markdown",
   "metadata": {},
   "source": [
    "### Possible Anomalies in Tip Location Data\n",
    "As DOPE isn't perfect, there might be several outliers affecting the above EDA. In this part, let's look at some of this possible sources annomalies.\n",
    "\n",
    "#### Duplicates in tip_locs\n",
    "Frame number will be duplicates if in any frame two cubes were identified by dope. For input_2 it seems like there are no duplicates in \"Frame\" column."
   ]
  },
  {
   "cell_type": "code",
   "execution_count": 12,
   "metadata": {},
   "outputs": [
    {
     "name": "stdout",
     "output_type": "stream",
     "text": [
      "Number of frames with more than one cube identified: 0\n"
     ]
    }
   ],
   "source": [
    "dups = tip_locs[\"Frame\"].duplicated()\n",
    "print(\"Number of frames with more than one cube identified: {}\".format(dups.sum()))\n"
   ]
  },
  {
   "cell_type": "markdown",
   "metadata": {},
   "source": [
    "#### Anomalous Detecion\n",
    "Sometimes DOPE estimates other objects wrongly as the hand carrying the pen. I did keep the background as clean as possible to test in ideal conditions. However, there might be anomalies. Following are the plots of the coordinates in cm."
   ]
  },
  {
   "cell_type": "code",
   "execution_count": 13,
   "metadata": {},
   "outputs": [
    {
     "data": {
      "text/plain": [
       "<matplotlib.axes._subplots.AxesSubplot at 0x7f3cfee3f310>"
      ]
     },
     "execution_count": 13,
     "metadata": {},
     "output_type": "execute_result"
    },
    {
     "data": {
      "image/png": "[encoded data removed]",
      "text/plain": [
       "<Figure size 432x288 with 1 Axes>"
      ]
     },
     "metadata": {
      "needs_background": "light"
     },
     "output_type": "display_data"
    }
   ],
   "source": [
    "tip_locs.plot(\"Frame\")"
   ]
  },
  {
   "cell_type": "markdown",
   "metadata": {},
   "source": [
    "From the plot it can be safely assumed that out of 182 frames, at-least in 6 frames the detection was anomalous. I will not be deleting these entries from the data. That is because, these anomalies actually represent the real behaviour of DOPE in experiment."
   ]
  },
  {
   "cell_type": "markdown",
   "metadata": {},
   "source": [
    "## Tip Tracking Validation\n",
    "Let's now validate the tip localization. To do that, I will consider only those frames where both tip and board was identified."
   ]
  },
  {
   "cell_type": "code",
   "execution_count": 9,
   "metadata": {},
   "outputs": [
    {
     "data": {
      "text/html": [
       "<div>\n",
       "<style scoped>\n",
       "    .dataframe tbody tr th:only-of-type {\n",
       "        vertical-align: middle;\n",
       "    }\n",
       "\n",
       "    .dataframe tbody tr th {\n",
       "        vertical-align: top;\n",
       "    }\n",
       "\n",
       "    .dataframe thead th {\n",
       "        text-align: right;\n",
       "    }\n",
       "</style>\n",
       "<table border=\"1\" class=\"dataframe\">\n",
       "  <thead>\n",
       "    <tr style=\"text-align: right;\">\n",
       "      <th></th>\n",
       "      <th>Frame</th>\n",
       "      <th>x</th>\n",
       "      <th>y</th>\n",
       "      <th>z</th>\n",
       "    </tr>\n",
       "  </thead>\n",
       "  <tbody>\n",
       "    <tr>\n",
       "      <th>count</th>\n",
       "      <td>182.000000</td>\n",
       "      <td>182.000000</td>\n",
       "      <td>182.000000</td>\n",
       "      <td>182.000000</td>\n",
       "    </tr>\n",
       "    <tr>\n",
       "      <th>mean</th>\n",
       "      <td>138.368132</td>\n",
       "      <td>20.785571</td>\n",
       "      <td>25.020815</td>\n",
       "      <td>116.568327</td>\n",
       "    </tr>\n",
       "    <tr>\n",
       "      <th>std</th>\n",
       "      <td>70.227662</td>\n",
       "      <td>0.161627</td>\n",
       "      <td>0.019038</td>\n",
       "      <td>0.139644</td>\n",
       "    </tr>\n",
       "    <tr>\n",
       "      <th>min</th>\n",
       "      <td>10.000000</td>\n",
       "      <td>20.624535</td>\n",
       "      <td>24.970957</td>\n",
       "      <td>116.303842</td>\n",
       "    </tr>\n",
       "    <tr>\n",
       "      <th>25%</th>\n",
       "      <td>77.250000</td>\n",
       "      <td>20.664419</td>\n",
       "      <td>25.006478</td>\n",
       "      <td>116.469147</td>\n",
       "    </tr>\n",
       "    <tr>\n",
       "      <th>50%</th>\n",
       "      <td>148.500000</td>\n",
       "      <td>20.693742</td>\n",
       "      <td>25.021630</td>\n",
       "      <td>116.517896</td>\n",
       "    </tr>\n",
       "    <tr>\n",
       "      <th>75%</th>\n",
       "      <td>200.750000</td>\n",
       "      <td>21.015957</td>\n",
       "      <td>25.036823</td>\n",
       "      <td>116.715361</td>\n",
       "    </tr>\n",
       "    <tr>\n",
       "      <th>max</th>\n",
       "      <td>247.000000</td>\n",
       "      <td>21.064778</td>\n",
       "      <td>25.058086</td>\n",
       "      <td>116.854839</td>\n",
       "    </tr>\n",
       "  </tbody>\n",
       "</table>\n",
       "</div>"
      ],
      "text/plain": [
       "            Frame           x           y           z\n",
       "count  182.000000  182.000000  182.000000  182.000000\n",
       "mean   138.368132   20.785571   25.020815  116.568327\n",
       "std     70.227662    0.161627    0.019038    0.139644\n",
       "min     10.000000   20.624535   24.970957  116.303842\n",
       "25%     77.250000   20.664419   25.006478  116.469147\n",
       "50%    148.500000   20.693742   25.021630  116.517896\n",
       "75%    200.750000   21.015957   25.036823  116.715361\n",
       "max    247.000000   21.064778   25.058086  116.854839"
      ]
     },
     "execution_count": 9,
     "metadata": {},
     "output_type": "execute_result"
    }
   ],
   "source": [
    "common_board_locs = board_locs[board_locs.Frame.isin(tip_locs.Frame)] \n",
    "common_board_locs.describe()"
   ]
  },
  {
   "cell_type": "code",
   "execution_count": 10,
   "metadata": {},
   "outputs": [
    {
     "data": {
      "text/html": [
       "<div>\n",
       "<style scoped>\n",
       "    .dataframe tbody tr th:only-of-type {\n",
       "        vertical-align: middle;\n",
       "    }\n",
       "\n",
       "    .dataframe tbody tr th {\n",
       "        vertical-align: top;\n",
       "    }\n",
       "\n",
       "    .dataframe thead th {\n",
       "        text-align: right;\n",
       "    }\n",
       "</style>\n",
       "<table border=\"1\" class=\"dataframe\">\n",
       "  <thead>\n",
       "    <tr style=\"text-align: right;\">\n",
       "      <th></th>\n",
       "      <th>Frame</th>\n",
       "      <th>x</th>\n",
       "      <th>y</th>\n",
       "      <th>z</th>\n",
       "    </tr>\n",
       "  </thead>\n",
       "  <tbody>\n",
       "    <tr>\n",
       "      <th>count</th>\n",
       "      <td>182.000000</td>\n",
       "      <td>182.000000</td>\n",
       "      <td>182.000000</td>\n",
       "      <td>182.000000</td>\n",
       "    </tr>\n",
       "    <tr>\n",
       "      <th>mean</th>\n",
       "      <td>138.368132</td>\n",
       "      <td>18.973444</td>\n",
       "      <td>17.550786</td>\n",
       "      <td>93.035197</td>\n",
       "    </tr>\n",
       "    <tr>\n",
       "      <th>std</th>\n",
       "      <td>70.227662</td>\n",
       "      <td>5.955726</td>\n",
       "      <td>6.203668</td>\n",
       "      <td>22.588288</td>\n",
       "    </tr>\n",
       "    <tr>\n",
       "      <th>min</th>\n",
       "      <td>10.000000</td>\n",
       "      <td>1.488969</td>\n",
       "      <td>-19.396569</td>\n",
       "      <td>0.004712</td>\n",
       "    </tr>\n",
       "    <tr>\n",
       "      <th>25%</th>\n",
       "      <td>77.250000</td>\n",
       "      <td>15.939588</td>\n",
       "      <td>16.217806</td>\n",
       "      <td>89.832410</td>\n",
       "    </tr>\n",
       "    <tr>\n",
       "      <th>50%</th>\n",
       "      <td>148.500000</td>\n",
       "      <td>18.621758</td>\n",
       "      <td>18.074069</td>\n",
       "      <td>93.795821</td>\n",
       "    </tr>\n",
       "    <tr>\n",
       "      <th>75%</th>\n",
       "      <td>200.750000</td>\n",
       "      <td>21.558856</td>\n",
       "      <td>20.021414</td>\n",
       "      <td>102.369283</td>\n",
       "    </tr>\n",
       "    <tr>\n",
       "      <th>max</th>\n",
       "      <td>247.000000</td>\n",
       "      <td>39.726533</td>\n",
       "      <td>27.977154</td>\n",
       "      <td>129.392684</td>\n",
       "    </tr>\n",
       "  </tbody>\n",
       "</table>\n",
       "</div>"
      ],
      "text/plain": [
       "            Frame           x           y           z\n",
       "count  182.000000  182.000000  182.000000  182.000000\n",
       "mean   138.368132   18.973444   17.550786   93.035197\n",
       "std     70.227662    5.955726    6.203668   22.588288\n",
       "min     10.000000    1.488969  -19.396569    0.004712\n",
       "25%     77.250000   15.939588   16.217806   89.832410\n",
       "50%    148.500000   18.621758   18.074069   93.795821\n",
       "75%    200.750000   21.558856   20.021414  102.369283\n",
       "max    247.000000   39.726533   27.977154  129.392684"
      ]
     },
     "execution_count": 10,
     "metadata": {},
     "output_type": "execute_result"
    }
   ],
   "source": [
    "common_tip_locs = tip_locs[tip_locs.Frame.isin(board_locs.Frame)]\n",
    "common_tip_locs.describe()"
   ]
  },
  {
   "cell_type": "markdown",
   "metadata": {},
   "source": [
    "The mean and STD of the difference between estimated board and tip locations are:\n"
   ]
  },
  {
   "cell_type": "code",
   "execution_count": 22,
   "metadata": {},
   "outputs": [
    {
     "name": "stdout",
     "output_type": "stream",
     "text": [
      "Mean:\n",
      "x     1.672333\n",
      "y     7.915888\n",
      "z    24.746476\n",
      "dtype: float64\n",
      "\n",
      "STD:\n",
      "x     5.868959\n",
      "y     6.214237\n",
      "z    23.435886\n",
      "dtype: float64\n"
     ]
    }
   ],
   "source": [
    "print(\"Mean:\")\n",
    "print(np.mean(common_board_locs[[\"x\",\"y\",\"z\"]] - common_tip_locs[[\"x\",\"y\",\"z\"]]))\n",
    "print(\"\\nSTD:\")\n",
    "print(np.std(common_board_locs[[\"x\",\"y\",\"z\"]] - common_tip_locs[[\"x\",\"y\",\"z\"]]))"
   ]
  },
  {
   "cell_type": "code",
   "execution_count": null,
   "metadata": {},
   "outputs": [],
   "source": []
  }
 ],
 "metadata": {
  "kernelspec": {
   "display_name": "Python 2",
   "language": "python",
   "name": "python2"
  },
  "language_info": {
   "codemirror_mode": {
    "name": "ipython",
    "version": 2
   },
   "file_extension": ".py",
   "mimetype": "text/x-python",
   "name": "python",
   "nbconvert_exporter": "python",
   "pygments_lexer": "ipython2",
   "version": "2.7.12"
  }
 },
 "nbformat": 4,
 "nbformat_minor": 2
}
